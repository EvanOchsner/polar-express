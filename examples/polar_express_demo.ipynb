{
 "cells": [
  {
   "cell_type": "markdown",
   "metadata": {},
   "source": [
    "# Polar Express Advanced Demo\n",
    "\n",
    "This notebook demonstrates the capabilities of the Polar Express library, which allows you to convert JSONPath expressions to Polars expressions and build data transformation pipelines.\n",
    "\n",
    "## What is Polar Express?\n",
    "\n",
    "Polar Express is a library that bridges the gap between JSONPath expressions and the Polars DataFrame library. It allows you to:\n",
    "\n",
    "1. Extract data from nested JSON using JSONPath expressions\n",
    "2. Convert JSONPath to native Polars expressions\n",
    "3. Build complex data transformation pipelines\n",
    "4. Handle nested arrays, filtering, and complex selection criteria"
   ]
  },
  {
   "cell_type": "code",
   "metadata": {},
   "outputs": [],
   "source": "import json\nimport polars as pl\nfrom polar_express import JSONPathExpr, PolarMapper\nfrom polar_express.core.table_mapper import TableMapper"
  },
  {
   "cell_type": "markdown",
   "metadata": {},
   "source": [
    "## Creating Complex Nested JSON Data\n",
    "\n",
    "Let's create a complex nested JSON dataset to demonstrate the capabilities of Polar Express. This dataset models a book catalog system containing:\n",
    "\n",
    "- Multiple levels of nesting\n",
    "- Arrays of objects at different levels\n",
    "- Properties that can be filtered with predicates\n",
    "- Various data types (strings, numbers, booleans, null)\n",
    "\n",
    "The structure will allow for testing complex JSONPath expressions like: `$.stores[*].sections.shelves[*].books[?(@.format == \"hardcover\")].title`"
   ]
  },
  {
   "cell_type": "code",
   "execution_count": 2,
   "metadata": {},
   "outputs": [
    {
     "name": "stdout",
     "output_type": "stream",
     "text": [
      "Book Inventory Structure:\n",
      "- stores[]: Array of 3 bookstore objects, each with an id, name, open status, and sections\n",
      "  - sections: Object with id, description, and an array of shelves\n",
      "    - shelves[]: Array of shelf objects, each with id, capacity, genres array, and a books array\n",
      "      - books[]: Array of book objects, each with format, title, and rating\n",
      "\n",
      "This structure allows testing complex JSONPath expressions like:\n",
      "$.stores[*].sections.shelves[*].books[?(@.format == \"hardcover\")].title\n"
     ]
    },
    {
     "data": {
      "text/html": [
       "<div><style>\n",
       ".dataframe > thead > tr,\n",
       ".dataframe > tbody > tr {\n",
       "  text-align: right;\n",
       "  white-space: pre-wrap;\n",
       "}\n",
       "</style>\n",
       "<small>shape: (1, 2)</small><table border=\"1\" class=\"dataframe\"><thead><tr><th>document_id</th><th>data</th></tr><tr><td>str</td><td>str</td></tr></thead><tbody><tr><td>&quot;catalog1&quot;</td><td>&quot;{&quot;metadata&quot;: {&quot;version&quot;: &quot;2.3&quot;…</td></tr></tbody></table></div>"
      ],
      "text/plain": [
       "shape: (1, 2)\n",
       "┌─────────────┬─────────────────────────────────┐\n",
       "│ document_id ┆ data                            │\n",
       "│ ---         ┆ ---                             │\n",
       "│ str         ┆ str                             │\n",
       "╞═════════════╪═════════════════════════════════╡\n",
       "│ catalog1    ┆ {\"metadata\": {\"version\": \"2.3\"… │\n",
       "└─────────────┴─────────────────────────────────┘"
      ]
     },
     "execution_count": 2,
     "metadata": {},
     "output_type": "execute_result"
    }
   ],
   "source": [
    "# Generate complex nested JSON data for a book inventory system\n",
    "book_inventory = {\n",
    "    \"metadata\": {\"version\": \"2.3\", \"generated\": \"2025-04-05\", \"source\": \"Bookworm Database\"},\n",
    "    \"stores\": [\n",
    "        {\n",
    "            \"id\": \"store001\",\n",
    "            \"name\": \"Downtown Books\",\n",
    "            \"open\": True,\n",
    "            \"sections\": {\n",
    "                \"id\": \"section101\",\n",
    "                \"description\": \"Fiction Section\",\n",
    "                \"shelves\": [\n",
    "                    {\n",
    "                        \"id\": \"shelf201\",\n",
    "                        \"capacity\": 42,\n",
    "                        \"genres\": [\"fantasy\", \"sci-fi\"],\n",
    "                        \"books\": [\n",
    "                            {\"format\": \"hardcover\", \"title\": \"The Midnight Library\", \"rating\": 4.2},\n",
    "                            {\"format\": \"paperback\", \"title\": \"Project Hail Mary\", \"rating\": 4.8},\n",
    "                            {\"format\": \"hardcover\", \"title\": \"Dune\", \"rating\": 4.7},\n",
    "                        ],\n",
    "                    },\n",
    "                    {\n",
    "                        \"id\": \"shelf202\",\n",
    "                        \"capacity\": 35,\n",
    "                        \"genres\": [\"mystery\"],\n",
    "                        \"books\": [\n",
    "                            {\"format\": \"ebook\", \"title\": \"The Silent Patient\", \"rating\": 4.5},\n",
    "                            {\"format\": \"hardcover\", \"title\": \"The Thursday Murder Club\", \"rating\": 4.3},\n",
    "                        ],\n",
    "                    },\n",
    "                ],\n",
    "            },\n",
    "        },\n",
    "        {\n",
    "            \"id\": \"store002\",\n",
    "            \"name\": \"Westside Readers\",\n",
    "            \"open\": False,\n",
    "            \"sections\": {\n",
    "                \"id\": \"section102\",\n",
    "                \"description\": \"Non-Fiction Section\",\n",
    "                \"shelves\": [\n",
    "                    {\n",
    "                        \"id\": \"shelf203\",\n",
    "                        \"capacity\": 28,\n",
    "                        \"genres\": [\"biography\", \"history\"],\n",
    "                        \"books\": [\n",
    "                            {\"format\": \"hardcover\", \"title\": \"A Promised Land\", \"rating\": 4.9},\n",
    "                            {\"format\": \"paperback\", \"title\": \"Sapiens\", \"rating\": 4.6},\n",
    "                        ],\n",
    "                    }\n",
    "                ],\n",
    "            },\n",
    "        },\n",
    "        {\n",
    "            \"id\": \"store003\",\n",
    "            \"name\": \"Harbor Bookshop\",\n",
    "            \"open\": True,\n",
    "            \"sections\": {\n",
    "                \"id\": \"section103\",\n",
    "                \"description\": \"Mixed Collection\",\n",
    "                \"shelves\": [\n",
    "                    {\n",
    "                        \"id\": \"shelf204\",\n",
    "                        \"capacity\": 50,\n",
    "                        \"genres\": [\"self-help\"],\n",
    "                        \"books\": [\n",
    "                            {\"format\": \"hardcover\", \"title\": \"Atomic Habits\", \"rating\": 4.8},\n",
    "                            {\"format\": \"hardcover\", \"title\": \"Deep Work\", \"rating\": 4.7},\n",
    "                        ],\n",
    "                    },\n",
    "                    {\n",
    "                        \"id\": \"shelf205\",\n",
    "                        \"capacity\": 32,\n",
    "                        \"genres\": [\"cooking\", \"travel\"],\n",
    "                        \"books\": [\n",
    "                            {\"format\": \"paperback\", \"title\": \"Salt Fat Acid Heat\", \"rating\": 4.8},\n",
    "                            {\"format\": \"ebook\", \"title\": \"World Travel\", \"rating\": 4.4},\n",
    "                            {\"format\": \"hardcover\", \"title\": \"The Food Lab\", \"rating\": 4.9},\n",
    "                        ],\n",
    "                    },\n",
    "                ],\n",
    "            },\n",
    "        },\n",
    "    ],\n",
    "}\n",
    "\n",
    "# Print data structure explanation\n",
    "print(\"Book Inventory Structure:\")\n",
    "print(\"- stores[]: Array of 3 bookstore objects, each with an id, name, open status, and sections\")\n",
    "print(\"  - sections: Object with id, description, and an array of shelves\")\n",
    "print(\"    - shelves[]: Array of shelf objects, each with id, capacity, genres array, and a books array\")\n",
    "print(\"      - books[]: Array of book objects, each with format, title, and rating\")\n",
    "print(\"\\nThis structure allows testing complex JSONPath expressions like:\")\n",
    "print('$.stores[*].sections.shelves[*].books[?(@.format == \"hardcover\")].title')\n",
    "\n",
    "# Create a Polars DataFrame with the JSON data\n",
    "df = pl.DataFrame({\"document_id\": [\"catalog1\"], \"data\": [json.dumps(book_inventory)]})\n",
    "df"
   ]
  },
  {
   "cell_type": "markdown",
   "metadata": {},
   "source": [
    "## JSONPath Expression Examples\n",
    "\n",
    "Let's define some interesting JSONPath expressions to extract data from our book inventory structure:"
   ]
  },
  {
   "cell_type": "code",
   "execution_count": 3,
   "metadata": {},
   "outputs": [
    {
     "name": "stdout",
     "output_type": "stream",
     "text": [
      "1. $.data.metadata.version\n",
      "   Extract the metadata version\n",
      "\n",
      "2. $.data.stores[*].name\n",
      "   Extract all bookstore names\n",
      "\n",
      "3. $.data.stores[*].sections.description\n",
      "   Extract all section descriptions\n",
      "\n",
      "4. $.data.stores[*].sections.shelves[*].capacity\n",
      "   Extract all shelf capacities\n",
      "\n",
      "5. $.data.stores[*].sections.shelves[*].books[?(@.format == \"hardcover\")].title\n",
      "   Extract titles of all hardcover books\n",
      "\n",
      "6. $.data.stores[?(@.open == true)].name\n",
      "   Extract names of open bookstores\n",
      "\n",
      "7. $.data.stores[*].sections.shelves[?(@.capacity > 40)].id\n",
      "   Extract ids of shelves with capacity > 40\n",
      "\n",
      "8. $.data.stores[*].sections.shelves[*].books[?(@.format == \"hardcover\" && @.rating > 4.5)].title\n",
      "   Extract titles of hardcover books with rating > 4.5\n",
      "\n"
     ]
    }
   ],
   "source": [
    "# Example JSONPath expressions for our book inventory data\n",
    "jsonpath_examples = [\n",
    "    # Basic properties\n",
    "    (\"$.data.metadata.version\", \"Extract the metadata version\"),\n",
    "    # All store names\n",
    "    (\"$.data.stores[*].name\", \"Extract all bookstore names\"),\n",
    "    # Accessing nested object properties\n",
    "    (\"$.data.stores[*].sections.description\", \"Extract all section descriptions\"),\n",
    "    # Multiple array traversal\n",
    "    (\"$.data.stores[*].sections.shelves[*].capacity\", \"Extract all shelf capacities\"),\n",
    "    # Triple nested array with filtering\n",
    "    (\n",
    "        '$.data.stores[*].sections.shelves[*].books[?(@.format == \"hardcover\")].title',\n",
    "        \"Extract titles of all hardcover books\",\n",
    "    ),\n",
    "    # Filtering with logical operators\n",
    "    (\"$.data.stores[?(@.open == true)].name\", \"Extract names of open bookstores\"),\n",
    "    # Complex filtering with number comparison\n",
    "    (\"$.data.stores[*].sections.shelves[?(@.capacity > 40)].id\", \"Extract ids of shelves with capacity > 40\"),\n",
    "    # Deeply nested filtering with multiple conditions\n",
    "    (\n",
    "        '$.data.stores[*].sections.shelves[*].books[?(@.format == \"hardcover\" && @.rating > 4.5)].title',\n",
    "        \"Extract titles of hardcover books with rating > 4.5\",\n",
    "    ),\n",
    "]\n",
    "\n",
    "# Print the examples\n",
    "for i, (path, description) in enumerate(jsonpath_examples, 1):\n",
    "    print(f\"{i}. {path}\\n   {description}\\n\")"
   ]
  },
  {
   "cell_type": "markdown",
   "metadata": {},
   "source": [
    "## Testing Individual JSONPath Expressions\n",
    "\n",
    "Let's test each of the JSONPath expressions we defined above:"
   ]
  },
  {
   "cell_type": "code",
   "execution_count": 4,
   "metadata": {},
   "outputs": [
    {
     "name": "stdout",
     "output_type": "stream",
     "text": [
      "Expression: $.data.metadata.version\n",
      "Description: Extract the metadata version\n"
     ]
    },
    {
     "data": {
      "text/html": [
       "<div><style>\n",
       ".dataframe > thead > tr,\n",
       ".dataframe > tbody > tr {\n",
       "  text-align: right;\n",
       "  white-space: pre-wrap;\n",
       "}\n",
       "</style>\n",
       "<small>shape: (1, 1)</small><table border=\"1\" class=\"dataframe\"><thead><tr><th>Extract the metadata version</th></tr><tr><td>str</td></tr></thead><tbody><tr><td>&quot;2.3&quot;</td></tr></tbody></table></div>"
      ],
      "text/plain": [
       "shape: (1, 1)\n",
       "┌──────────────────────────────┐\n",
       "│ Extract the metadata version │\n",
       "│ ---                          │\n",
       "│ str                          │\n",
       "╞══════════════════════════════╡\n",
       "│ 2.3                          │\n",
       "└──────────────────────────────┘"
      ]
     },
     "metadata": {},
     "output_type": "display_data"
    },
    {
     "name": "stdout",
     "output_type": "stream",
     "text": [
      "--------------------------------------------------------------------------------\n",
      "Expression: $.data.stores[*].name\n",
      "Description: Extract all bookstore names\n"
     ]
    },
    {
     "data": {
      "text/html": [
       "<div><style>\n",
       ".dataframe > thead > tr,\n",
       ".dataframe > tbody > tr {\n",
       "  text-align: right;\n",
       "  white-space: pre-wrap;\n",
       "}\n",
       "</style>\n",
       "<small>shape: (1, 1)</small><table border=\"1\" class=\"dataframe\"><thead><tr><th>Extract all bookstore names</th></tr><tr><td>list[str]</td></tr></thead><tbody><tr><td>[&quot;Downtown Books&quot;, &quot;Westside Readers&quot;, &quot;Harbor Bookshop&quot;]</td></tr></tbody></table></div>"
      ],
      "text/plain": [
       "shape: (1, 1)\n",
       "┌─────────────────────────────────┐\n",
       "│ Extract all bookstore names     │\n",
       "│ ---                             │\n",
       "│ list[str]                       │\n",
       "╞═════════════════════════════════╡\n",
       "│ [\"Downtown Books\", \"Westside R… │\n",
       "└─────────────────────────────────┘"
      ]
     },
     "metadata": {},
     "output_type": "display_data"
    },
    {
     "name": "stdout",
     "output_type": "stream",
     "text": [
      "--------------------------------------------------------------------------------\n",
      "Expression: $.data.stores[*].sections.description\n",
      "Description: Extract all section descriptions\n"
     ]
    },
    {
     "data": {
      "text/html": [
       "<div><style>\n",
       ".dataframe > thead > tr,\n",
       ".dataframe > tbody > tr {\n",
       "  text-align: right;\n",
       "  white-space: pre-wrap;\n",
       "}\n",
       "</style>\n",
       "<small>shape: (1, 1)</small><table border=\"1\" class=\"dataframe\"><thead><tr><th>Extract all section descriptions</th></tr><tr><td>list[str]</td></tr></thead><tbody><tr><td>[&quot;Fiction Section&quot;, &quot;Non-Fiction Section&quot;, &quot;Mixed Collection&quot;]</td></tr></tbody></table></div>"
      ],
      "text/plain": [
       "shape: (1, 1)\n",
       "┌─────────────────────────────────┐\n",
       "│ Extract all section descriptio… │\n",
       "│ ---                             │\n",
       "│ list[str]                       │\n",
       "╞═════════════════════════════════╡\n",
       "│ [\"Fiction Section\", \"Non-Ficti… │\n",
       "└─────────────────────────────────┘"
      ]
     },
     "metadata": {},
     "output_type": "display_data"
    },
    {
     "name": "stdout",
     "output_type": "stream",
     "text": [
      "--------------------------------------------------------------------------------\n",
      "Expression: $.data.stores[*].sections.shelves[*].capacity\n",
      "Description: Extract all shelf capacities\n"
     ]
    },
    {
     "data": {
      "text/html": [
       "<div><style>\n",
       ".dataframe > thead > tr,\n",
       ".dataframe > tbody > tr {\n",
       "  text-align: right;\n",
       "  white-space: pre-wrap;\n",
       "}\n",
       "</style>\n",
       "<small>shape: (1, 1)</small><table border=\"1\" class=\"dataframe\"><thead><tr><th>Extract all shelf capacities</th></tr><tr><td>str</td></tr></thead><tbody><tr><td>&quot;[{&quot;id&quot;:&quot;store001&quot;,&quot;name&quot;:&quot;Down…</td></tr></tbody></table></div>"
      ],
      "text/plain": [
       "shape: (1, 1)\n",
       "┌─────────────────────────────────┐\n",
       "│ Extract all shelf capacities    │\n",
       "│ ---                             │\n",
       "│ str                             │\n",
       "╞═════════════════════════════════╡\n",
       "│ [{\"id\":\"store001\",\"name\":\"Down… │\n",
       "└─────────────────────────────────┘"
      ]
     },
     "metadata": {},
     "output_type": "display_data"
    },
    {
     "name": "stdout",
     "output_type": "stream",
     "text": [
      "--------------------------------------------------------------------------------\n",
      "Expression: $.data.stores[*].sections.shelves[*].books[?(@.format == \"hardcover\")].title\n",
      "Description: Extract titles of all hardcover books\n"
     ]
    },
    {
     "data": {
      "text/html": [
       "<div><style>\n",
       ".dataframe > thead > tr,\n",
       ".dataframe > tbody > tr {\n",
       "  text-align: right;\n",
       "  white-space: pre-wrap;\n",
       "}\n",
       "</style>\n",
       "<small>shape: (1, 1)</small><table border=\"1\" class=\"dataframe\"><thead><tr><th>Extract titles of all hardcover books</th></tr><tr><td>str</td></tr></thead><tbody><tr><td>&quot;[{&quot;id&quot;:&quot;store001&quot;,&quot;name&quot;:&quot;Down…</td></tr></tbody></table></div>"
      ],
      "text/plain": [
       "shape: (1, 1)\n",
       "┌─────────────────────────────────┐\n",
       "│ Extract titles of all hardcove… │\n",
       "│ ---                             │\n",
       "│ str                             │\n",
       "╞═════════════════════════════════╡\n",
       "│ [{\"id\":\"store001\",\"name\":\"Down… │\n",
       "└─────────────────────────────────┘"
      ]
     },
     "metadata": {},
     "output_type": "display_data"
    },
    {
     "name": "stdout",
     "output_type": "stream",
     "text": [
      "--------------------------------------------------------------------------------\n",
      "Expression: $.data.stores[?(@.open == true)].name\n",
      "Description: Extract names of open bookstores\n"
     ]
    },
    {
     "data": {
      "text/html": [
       "<div><style>\n",
       ".dataframe > thead > tr,\n",
       ".dataframe > tbody > tr {\n",
       "  text-align: right;\n",
       "  white-space: pre-wrap;\n",
       "}\n",
       "</style>\n",
       "<small>shape: (1, 1)</small><table border=\"1\" class=\"dataframe\"><thead><tr><th>Extract names of open bookstores</th></tr><tr><td>list[str]</td></tr></thead><tbody><tr><td>[]</td></tr></tbody></table></div>"
      ],
      "text/plain": [
       "shape: (1, 1)\n",
       "┌─────────────────────────────────┐\n",
       "│ Extract names of open bookstor… │\n",
       "│ ---                             │\n",
       "│ list[str]                       │\n",
       "╞═════════════════════════════════╡\n",
       "│ []                              │\n",
       "└─────────────────────────────────┘"
      ]
     },
     "metadata": {},
     "output_type": "display_data"
    },
    {
     "name": "stdout",
     "output_type": "stream",
     "text": [
      "--------------------------------------------------------------------------------\n",
      "Expression: $.data.stores[*].sections.shelves[?(@.capacity > 40)].id\n",
      "Description: Extract ids of shelves with capacity > 40\n"
     ]
    },
    {
     "data": {
      "text/html": [
       "<div><style>\n",
       ".dataframe > thead > tr,\n",
       ".dataframe > tbody > tr {\n",
       "  text-align: right;\n",
       "  white-space: pre-wrap;\n",
       "}\n",
       "</style>\n",
       "<small>shape: (1, 1)</small><table border=\"1\" class=\"dataframe\"><thead><tr><th>Extract ids of shelves with capacity &gt; 40</th></tr><tr><td>str</td></tr></thead><tbody><tr><td>&quot;[{&quot;id&quot;:&quot;store001&quot;,&quot;name&quot;:&quot;Down…</td></tr></tbody></table></div>"
      ],
      "text/plain": [
       "shape: (1, 1)\n",
       "┌─────────────────────────────────┐\n",
       "│ Extract ids of shelves with ca… │\n",
       "│ ---                             │\n",
       "│ str                             │\n",
       "╞═════════════════════════════════╡\n",
       "│ [{\"id\":\"store001\",\"name\":\"Down… │\n",
       "└─────────────────────────────────┘"
      ]
     },
     "metadata": {},
     "output_type": "display_data"
    },
    {
     "name": "stdout",
     "output_type": "stream",
     "text": [
      "--------------------------------------------------------------------------------\n",
      "Expression: $.data.stores[*].sections.shelves[*].books[?(@.format == \"hardcover\" && @.rating > 4.5)].title\n",
      "Description: Extract titles of hardcover books with rating > 4.5\n"
     ]
    },
    {
     "data": {
      "text/html": [
       "<div><style>\n",
       ".dataframe > thead > tr,\n",
       ".dataframe > tbody > tr {\n",
       "  text-align: right;\n",
       "  white-space: pre-wrap;\n",
       "}\n",
       "</style>\n",
       "<small>shape: (1, 1)</small><table border=\"1\" class=\"dataframe\"><thead><tr><th>Extract titles of hardcover books with rating &gt; 4.5</th></tr><tr><td>str</td></tr></thead><tbody><tr><td>&quot;[{&quot;id&quot;:&quot;store001&quot;,&quot;name&quot;:&quot;Down…</td></tr></tbody></table></div>"
      ],
      "text/plain": [
       "shape: (1, 1)\n",
       "┌─────────────────────────────────┐\n",
       "│ Extract titles of hardcover bo… │\n",
       "│ ---                             │\n",
       "│ str                             │\n",
       "╞═════════════════════════════════╡\n",
       "│ [{\"id\":\"store001\",\"name\":\"Down… │\n",
       "└─────────────────────────────────┘"
      ]
     },
     "metadata": {},
     "output_type": "display_data"
    },
    {
     "name": "stdout",
     "output_type": "stream",
     "text": [
      "--------------------------------------------------------------------------------\n"
     ]
    }
   ],
   "source": [
    "# Test each JSONPath expression individually\n",
    "for path, description in jsonpath_examples:\n",
    "    print(f\"Expression: {path}\")\n",
    "    print(f\"Description: {description}\")\n",
    "\n",
    "    # Create JSONPathExpr and extract data\n",
    "    expr = JSONPathExpr(path, alias=description)\n",
    "    result = df.with_columns(expr.expr)\n",
    "\n",
    "    # Show the result\n",
    "    display(result.select(expr.alias))\n",
    "    print(\"-\" * 80)"
   ]
  },
  {
   "cell_type": "code",
   "execution_count": 10,
   "metadata": {},
   "outputs": [
    {
     "data": {
      "text/plain": [
       "'col(\"data\").str.json_path_match([String($.stores)]).strict_cast(String)'"
      ]
     },
     "execution_count": 10,
     "metadata": {},
     "output_type": "execute_result"
    }
   ],
   "source": [
    "path = '$.data.stores[*].sections.shelves[*].books[?(@.format == \"hardcover\")].title'\n",
    "expr = JSONPathExpr(path)\n",
    "str(expr.expr)"
   ]
  },
  {
   "cell_type": "code",
   "execution_count": null,
   "metadata": {},
   "outputs": [],
   "source": []
  },
  {
   "cell_type": "code",
   "execution_count": null,
   "metadata": {},
   "outputs": [],
   "source": []
  },
  {
   "cell_type": "code",
   "execution_count": null,
   "metadata": {},
   "outputs": [],
   "source": []
  },
  {
   "cell_type": "code",
   "execution_count": null,
   "metadata": {},
   "outputs": [],
   "source": []
  },
  {
   "cell_type": "code",
   "execution_count": null,
   "metadata": {},
   "outputs": [],
   "source": []
  },
  {
   "cell_type": "markdown",
   "metadata": {},
   "source": [
    "## Building a Data Transformation Pipeline\n",
    "\n",
    "Now, let's build a more complex data transformation pipeline using the PolarMapper class:"
   ]
  },
  {
   "cell_type": "code",
   "execution_count": 6,
   "metadata": {},
   "outputs": [
    {
     "name": "stdout",
     "output_type": "stream",
     "text": [
      "ETL Pipeline Results:\n",
      "shape: (1, 5)\n",
      "┌─────────────┬─────────────────────┬────────────────────┬────────────────────┬────────────────────┐\n",
      "│ document_id ┆ store_names         ┆ hardcover_titles   ┆ high_rated_hardcov ┆ high_capacity_shel │\n",
      "│ ---         ┆ ---                 ┆ ---                ┆ ers                ┆ ves                │\n",
      "│ str         ┆ list[str]           ┆ str                ┆ ---                ┆ ---                │\n",
      "│             ┆                     ┆                    ┆ str                ┆ str                │\n",
      "╞═════════════╪═════════════════════╪════════════════════╪════════════════════╪════════════════════╡\n",
      "│ catalog1    ┆ [\"Downtown Books\",  ┆ [{\"id\":\"store001\", ┆ [{\"id\":\"store001\", ┆ [{\"id\":\"store001\", │\n",
      "│             ┆ \"Westside R…        ┆ \"name\":\"Down…      ┆ \"name\":\"Down…      ┆ \"name\":\"Down…      │\n",
      "└─────────────┴─────────────────────┴────────────────────┴────────────────────┴────────────────────┘\n"
     ]
    }
   ],
   "source": [
    "# Create a PolarMapper to build an ETL pipeline\n",
    "mapper = PolarMapper()\n",
    "\n",
    "# Step 1: Extract all bookstore names\n",
    "store_names = JSONPathExpr(\"$.data.stores[*].name\", alias=\"store_names\")\n",
    "mapper.add_with_columns_step([store_names.expr])\n",
    "\n",
    "# Step 2: Extract titles of all hardcover books\n",
    "hardcover_titles = JSONPathExpr(\n",
    "    '$.data.stores[*].sections.shelves[*].books[?(@.format == \"hardcover\")].title', alias=\"hardcover_titles\"\n",
    ")\n",
    "mapper.add_with_columns_step([hardcover_titles.expr])\n",
    "\n",
    "# Step 3: Extract high-rated hardcover books (rating > 4.5)\n",
    "high_rated_hardcovers = JSONPathExpr(\n",
    "    '$.data.stores[*].sections.shelves[*].books[?(@.format == \"hardcover\" && @.rating > 4.5)].title',\n",
    "    alias=\"high_rated_hardcovers\",\n",
    ")\n",
    "mapper.add_with_columns_step([high_rated_hardcovers.expr])\n",
    "\n",
    "# Step 4: Extract shelf IDs with high capacity\n",
    "high_capacity_shelves = JSONPathExpr(\n",
    "    \"$.data.stores[*].sections.shelves[?(@.capacity > 40)].id\", alias=\"high_capacity_shelves\"\n",
    ")\n",
    "mapper.add_with_columns_step([high_capacity_shelves.expr])\n",
    "\n",
    "# Step 5: Select only the columns we want\n",
    "mapper.add_select_step(\n",
    "    [\n",
    "        pl.col(\"document_id\"),\n",
    "        pl.col(\"store_names\"),\n",
    "        pl.col(\"hardcover_titles\"),\n",
    "        pl.col(\"high_rated_hardcovers\"),\n",
    "        pl.col(\"high_capacity_shelves\"),\n",
    "    ]\n",
    ")\n",
    "\n",
    "# Apply the transformation pipeline\n",
    "result = mapper.map(df)\n",
    "\n",
    "print(\"ETL Pipeline Results:\")\n",
    "print(result)"
   ]
  },
  {
   "cell_type": "markdown",
   "metadata": {},
   "source": [
    "## Examining the Mapper\n",
    "\n",
    "Let's examine the mapper we created to understand the transformation pipeline:"
   ]
  },
  {
   "cell_type": "code",
   "execution_count": 7,
   "metadata": {},
   "outputs": [
    {
     "name": "stdout",
     "output_type": "stream",
     "text": [
      "Mapper description:\n",
      "This mapper performs the following operations on the input DataFrame:\n",
      "\n",
      "Step 1: Add columns .when([([(col(\"data\").str.json_path_match([String($.stores)])) == (String([]))]) | (col(\"data\").str.json_path_match([String($.stores)]).is_null())]).then(null).otherwise(col(\"data\").str.json_path_match([String($.stores)]).str.json_decode().eval()).alias(\"store_names\")\n",
      "\n",
      "Step 2: Add columns col(\"data\").str.json_path_match([String($.stores)]).strict_cast(String).alias(\"hardcover_titles\")\n",
      "\n",
      "Step 3: Add columns col(\"data\").str.json_path_match([String($.stores)]).strict_cast(String).alias(\"high_rated_hardcovers\")\n",
      "\n",
      "Step 4: Add columns col(\"data\").str.json_path_match([String($.stores)]).strict_cast(String).alias(\"high_capacity_shelves\")\n",
      "\n",
      "Step 5: Select columns col(\"document_id\"), col(\"store_names\"), col(\"hardcover_titles\"), col(\"high_rated_hardcovers\"), col(\"high_capacity_shelves\")\n",
      "\n",
      "\n",
      "\n",
      "Mapper JSON representation:\n",
      "{\n",
      "  \"steps\": [\n",
      "    {\n",
      "      \"type\": \"with_columns\",\n",
      "      \"exprs\": [\n",
      "        \".when([([(col(\\\"data\\\").str.json_path_match([String($.stores)])) == (String([]))]) | (col(\\\"data\\\").str.json_path_match([String($.stores)]).is_null())]).then(null).otherwise(col(\\\"data\\\").str.json_path_match([String($.stores)]).str.json_decode().eval()).alias(\\\"store_names\\\")\"\n",
      "      ]\n",
      "    },\n",
      "    {\n",
      "      \"type\": \"with_columns\",\n",
      "      \"exprs\": [\n",
      "        \"col(\\\"data\\\").str.json_path_match([String($.stores)]).strict_cast(String).alias(\\\"hardcover_titles\\\")\"\n",
      "      ]\n",
      "    },\n",
      "    {\n",
      "      \"type\": \"with_columns\",\n",
      "      \"exprs\": [\n",
      "        \"col(\\\"data\\\").str.json_path_match([String($.stores)]).strict_cast(String).alias(\\\"high_rated_hardcovers\\\")\"\n",
      "      ]\n",
      "    },\n",
      "    {\n",
      "      \"type\": \"with_columns\",\n",
      "      \"exprs\": [\n",
      "        \"col(\\\"data\\\").str.json_path_match([String($.stores)]).strict_cast(String).alias(\\\"high_capacity_shelves\\\")\"\n",
      "      ]\n",
      "    },\n",
      "    {\n",
      "      \"type\": \"select\",\n",
      "      \"exprs\": [\n",
      "        \"col(\\\"document_id\\\")\",\n",
      "        \"col(\\\"store_names\\\")\",\n",
      "        \"col(\\\"hardcover_titles\\\")\",\n",
      "        \"col(\\\"high_rated_hardcovers\\\")\",\n",
      "        \"col(\\\"high_capacity_shelves\\\")\"\n",
      "      ]\n",
      "    }\n",
      "  ]\n",
      "}\n"
     ]
    }
   ],
   "source": [
    "print(\"Mapper description:\")\n",
    "print(mapper.describe())\n",
    "\n",
    "# Save the mapper to JSON for later use\n",
    "mapper_json = mapper.to_json()\n",
    "print(\"\\nMapper JSON representation:\")\n",
    "print(mapper_json)"
   ]
  },
  {
   "cell_type": "markdown",
   "metadata": {},
   "source": [
    "## Loading a Mapper from JSON\n",
    "\n",
    "You can save the mapper to JSON and load it back to reuse the same transformation:"
   ]
  },
  {
   "cell_type": "code",
   "execution_count": 8,
   "metadata": {},
   "outputs": [
    {
     "ename": "AttributeError",
     "evalue": "type object 'PolarMapper' has no attribute 'from_json'",
     "output_type": "error",
     "traceback": [
      "\u001b[0;31m---------------------------------------------------------------------------\u001b[0m",
      "\u001b[0;31mAttributeError\u001b[0m                            Traceback (most recent call last)",
      "Cell \u001b[0;32mIn[8], line 2\u001b[0m\n\u001b[1;32m      1\u001b[0m \u001b[38;5;66;03m# Create a new mapper from the JSON\u001b[39;00m\n\u001b[0;32m----> 2\u001b[0m new_mapper \u001b[38;5;241m=\u001b[39m \u001b[43mPolarMapper\u001b[49m\u001b[38;5;241;43m.\u001b[39;49m\u001b[43mfrom_json\u001b[49m(mapper_json)\n\u001b[1;32m      4\u001b[0m \u001b[38;5;66;03m# Apply the loaded mapper to the same data\u001b[39;00m\n\u001b[1;32m      5\u001b[0m new_result \u001b[38;5;241m=\u001b[39m new_mapper\u001b[38;5;241m.\u001b[39mmap(df)\n",
      "\u001b[0;31mAttributeError\u001b[0m: type object 'PolarMapper' has no attribute 'from_json'"
     ]
    }
   ],
   "source": [
    "# Create a new mapper from the JSON\n",
    "new_mapper = PolarMapper.from_json(mapper_json)\n",
    "\n",
    "# Apply the loaded mapper to the same data\n",
    "new_result = new_mapper.map(df)\n",
    "\n",
    "print(\"Results using loaded mapper:\")\n",
    "print(new_result)\n",
    "\n",
    "# Verify the results are the same\n",
    "print(f\"\\nResults match: {new_result.equals(result)}\")"
   ]
  },
  {
   "cell_type": "markdown",
   "metadata": {},
   "source": "## Using TableMapper for Schema Definition\n\nThe TableMapper class provides a convenient way to define table schemas using JSONPath expressions. Let's see how we can use it with our book inventory data:",
   "outputs": []
  },
  {
   "cell_type": "code",
   "source": "# Create a TableMapper to define a schema for the book inventory\nbook_table = TableMapper()\n\n# Add columns for basic store information\nbook_table.add_column(\"store_id\", \"$.data.stores[*].id\")\nbook_table.add_column(\"store_name\", \"$.data.stores[*].name\")\nbook_table.add_column(\"is_open\", \"$.data.stores[*].open\")\n\n# Add columns for section information\nbook_table.add_column(\"section_id\", \"$.data.stores[*].sections.id\")\nbook_table.add_column(\"section_desc\", \"$.data.stores[*].sections.description\")\n\n# Print the defined schema\nprint(\"Book inventory schema:\")\nprint(book_table)\n\n# Apply the table schema to our DataFrame\nstore_info = book_table.map(df)\nprint(\"\\nStore information extracted using TableMapper:\")\nprint(store_info)",
   "metadata": {},
   "outputs": []
  },
  {
   "cell_type": "code",
   "source": "# Creating a TableMapper for book details using method chaining\nbook_details = (\n    TableMapper()\n    .add_column(\"store_name\", \"$.data.stores[*].name\")\n    .add_column(\"book_title\", \"$.data.stores[*].sections.shelves[*].books[*].title\")\n    .add_column(\"book_format\", \"$.data.stores[*].sections.shelves[*].books[*].format\")\n    .add_column(\"book_rating\", \"$.data.stores[*].sections.shelves[*].books[*].rating\")\n)\n\n# Print the schema\nprint(\"Book details schema:\")\nprint(book_details)\n\n# Apply the mapper to extract book details\nbook_result = book_details.map(df)\nprint(\"\\nBook details extracted using TableMapper:\")\nprint(book_result)",
   "metadata": {},
   "outputs": []
  },
  {
   "cell_type": "code",
   "source": "# Using a dictionary to define a schema\nhardcover_schema = {\n    \"store_name\": \"$.data.stores[*].name\",\n    \"shelf_id\": \"$.data.stores[*].sections.shelves[*].id\",\n    \"hardcover_title\": '$.data.stores[*].sections.shelves[*].books[?(@.format == \"hardcover\")].title',\n    \"hardcover_rating\": '$.data.stores[*].sections.shelves[*].books[?(@.format == \"hardcover\")].rating'\n}\n\n# Create a TableMapper from a schema dictionary\nhardcover_mapper = TableMapper.from_schema_dict(hardcover_schema)\n\n# Print the schema\nprint(\"Hardcover books schema:\")\nprint(hardcover_mapper)\n\n# Apply the mapper to extract hardcover book details\nhardcover_result = hardcover_mapper.map(df)\nprint(\"\\nHardcover books extracted using TableMapper:\")\nprint(hardcover_result)",
   "metadata": {},
   "outputs": []
  },
  {
   "cell_type": "code",
   "source": "# Creating high-rated books filter\nhigh_rating_schema = {\n    \"store_name\": \"$.data.stores[*].name\",\n    \"high_rated_book\": \"$.data.stores[*].sections.shelves[*].books[?(@.rating > 4.5)].title\",\n    \"rating\": \"$.data.stores[*].sections.shelves[*].books[?(@.rating > 4.5)].rating\"\n}\n\n# Create and apply the mapper\nhigh_rated_mapper = TableMapper().from_dict(high_rating_schema)\nhigh_rated_result = high_rated_mapper.map(df)\n\nprint(\"High-rated books (rating > 4.5):\")\nprint(high_rated_result)\n\n# Get the schema as a dictionary\nprint(\"\\nSchema as dictionary:\")\nprint(high_rated_mapper.get_schema())",
   "metadata": {},
   "outputs": []
  },
  {
   "cell_type": "markdown",
   "source": "## Converting TableMapper to PolarMapper\n\nA TableMapper can be converted to a PolarMapper for more complex transformations:",
   "metadata": {}
  },
  {
   "cell_type": "code",
   "source": "# Convert TableMapper to PolarMapper for additional transformations\nstore_mapper = TableMapper()\nstore_mapper.add_column(\"store_id\", \"$.data.stores[*].id\")\nstore_mapper.add_column(\"store_name\", \"$.data.stores[*].name\")\nstore_mapper.add_column(\"is_open\", \"$.data.stores[*].open\")\n\n# Convert to PolarMapper\npolar_mapper = store_mapper.to_mapper()\n\n# Add additional transformation steps\npolar_mapper.add_with_columns_step([\n    pl.col(\"is_open\").alias(\"status\").map_elements(lambda x: \"Open\" if x else \"Closed\")\n])\n\n# Add a filter step to only show open stores\npolar_mapper.add_filter_step(pl.col(\"is_open\") == True)\n\n# Apply the enhanced mapper\nenhanced_result = polar_mapper.map(df)\n\nprint(\"Enhanced mapping with additional transformations:\")\nprint(enhanced_result)",
   "metadata": {},
   "outputs": []
  },
  {
   "cell_type": "markdown",
   "source": "## Conclusion\n\nThe Polar Express library provides multiple ways to work with nested JSON data:\n\n1. **Individual JSONPath expressions** - For simple extraction of specific fields\n2. **PolarMapper** - For building complex transformation pipelines with multiple steps\n3. **TableMapper** - For defining table schemas using JSONPath expressions\n\nBenefits of using TableMapper:\n- Declarative schema definition using JSONPath\n- Automatic conversion to Polars expressions\n- Support for nested data, arrays, and filtering with predicates\n- Easy conversion to PolarMapper for more complex transformations\n- Serialization and deserialization of schemas\n\nThis makes Polar Express a powerful tool for data engineers and analysts working with complex JSON data in polars DataFrames.",
   "metadata": {}
  }
 ],
 "metadata": {
  "kernelspec": {
   "display_name": "Python 3",
   "language": "python",
   "name": "python3"
  },
  "language_info": {
   "codemirror_mode": {
    "name": "ipython",
    "version": 3
   },
   "file_extension": ".py",
   "mimetype": "text/x-python",
   "name": "python",
   "nbconvert_exporter": "python",
   "pygments_lexer": "ipython3",
   "version": "3.10.12"
  }
 },
 "nbformat": 4,
 "nbformat_minor": 4
}